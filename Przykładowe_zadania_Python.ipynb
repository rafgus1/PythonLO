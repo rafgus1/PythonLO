{
  "nbformat": 4,
  "nbformat_minor": 0,
  "metadata": {
    "colab": {
      "name": "Copy of Przykładowe_zadania.ipynb",
      "provenance": [],
      "collapsed_sections": [],
      "include_colab_link": true
    },
    "kernelspec": {
      "name": "python3",
      "display_name": "Python 3"
    }
  },
  "cells": [
    {
      "cell_type": "markdown",
      "metadata": {
        "id": "view-in-github",
        "colab_type": "text"
      },
      "source": [
        "<a href=\"https://colab.research.google.com/github/rafgus1/PythonLO/blob/master/Przyk%C5%82adowe_zadania_Python.ipynb\" target=\"_parent\"><img src=\"https://colab.research.google.com/assets/colab-badge.svg\" alt=\"Open In Colab\"/></a>"
      ]
    },
    {
      "cell_type": "markdown",
      "metadata": {
        "id": "9-qREdABUA_0",
        "colab_type": "text"
      },
      "source": [
        "# Przykładowe zadania"
      ]
    },
    {
      "cell_type": "markdown",
      "metadata": {
        "id": "lBj-bG_dII8S",
        "colab_type": "text"
      },
      "source": [
        "**Zadanie 1**"
      ]
    },
    {
      "cell_type": "code",
      "metadata": {
        "id": "M6wLPaX8In9U",
        "colab_type": "code",
        "colab": {}
      },
      "source": [
        "print('>')\n",
        "tekst = input()\n",
        "print('Podany przez Ciebie tekst to \"', tekst, '\"')"
      ],
      "execution_count": 0,
      "outputs": []
    },
    {
      "cell_type": "markdown",
      "metadata": {
        "id": "jgW-4x86IxmZ",
        "colab_type": "text"
      },
      "source": [
        "**Zadanie 2**"
      ]
    },
    {
      "cell_type": "code",
      "metadata": {
        "id": "GddMgn2XIz2s",
        "colab_type": "code",
        "colab": {}
      },
      "source": [
        "print('Podaj x')\n",
        "x = int(input())\n",
        "print('Podaj y')\n",
        "y = int(input())\n",
        "print('Suma podanych liczb to ', x+y)"
      ],
      "execution_count": 0,
      "outputs": []
    },
    {
      "cell_type": "markdown",
      "metadata": {
        "id": "8IXc2dxNJAex",
        "colab_type": "text"
      },
      "source": [
        "**Zadanie 3**"
      ]
    },
    {
      "cell_type": "code",
      "metadata": {
        "id": "QJC6BCoGJEUL",
        "colab_type": "code",
        "colab": {}
      },
      "source": [
        "## poniższe będzie wczytywało tekst aż do wczytania pojedynczej litery q\n",
        "\n",
        "kolekcja = []\n",
        "print(\"Podawaj kolejne elementy do zapamiętania. Aby zakończyć wprowadź pojedynczą literę 'q'\")\n",
        "while True:\n",
        "    print(\">\")\n",
        "    tekst = input()\n",
        "    if tekst == \"q\":\n",
        "        break;\n",
        "    kolekcja.append(tekst)\n",
        "print(\"Wprowadziłeś kolejno \")\n",
        "for element in kolekcja:\n",
        "    print(element)"
      ],
      "execution_count": 0,
      "outputs": []
    },
    {
      "cell_type": "markdown",
      "metadata": {
        "id": "WQboDHiLJFjk",
        "colab_type": "text"
      },
      "source": [
        "**Zadanie 4**"
      ]
    },
    {
      "cell_type": "code",
      "metadata": {
        "id": "f-vxQXjKJH2b",
        "colab_type": "code",
        "colab": {}
      },
      "source": [
        "print('Wprowadź liczbę, której podzielność przez 3 chcesz sprawdzić\\n>')\n",
        "liczba = int(input())\n",
        "if liczba % 3 == 0:\n",
        "    print('Liczba jest podzielna przez 3')\n",
        "else :\n",
        "    print('Liczba nie jest podzielna przez 3')\n"
      ],
      "execution_count": 0,
      "outputs": []
    },
    {
      "cell_type": "markdown",
      "metadata": {
        "id": "CYz2R4Y3JJsW",
        "colab_type": "text"
      },
      "source": [
        "**Zadanie 5**"
      ]
    },
    {
      "cell_type": "code",
      "metadata": {
        "id": "z9k_zh1OJLtt",
        "colab_type": "code",
        "colab": {}
      },
      "source": [
        "print('Podaj jakieś liczbę (sprawdzę czy mam ją na sekretnej liście)')\n",
        "sekretna_lista = ( 3, 4, 17, 18, -2 , 9)\n",
        "liczba = int(input())\n",
        "if liczba in sekretna_lista:\n",
        "    print('Zgadłeś - ta liczba jest na liściee')\n",
        "else:\n",
        "    print('Pudło - nie ma tu takiej liczby')"
      ],
      "execution_count": 0,
      "outputs": []
    },
    {
      "cell_type": "markdown",
      "metadata": {
        "id": "lMWbadnNJN5X",
        "colab_type": "text"
      },
      "source": [
        "**Zadanie 6**"
      ]
    },
    {
      "cell_type": "code",
      "metadata": {
        "id": "kGYv2j7bJQ-Z",
        "colab_type": "code",
        "colab": {}
      },
      "source": [
        "print('Podaj dodatnią liczbę pierwszych kwadratów liczb, które mam wypisać')\n",
        "liczba = int(input())\n",
        "if liczba > 0:\n",
        "    for i in range(1,1+liczba):\n",
        "        print(i*i, end=\", \")\n",
        "else :\n",
        "    print('Podano niepoprawna liczbe')"
      ],
      "execution_count": 0,
      "outputs": []
    },
    {
      "cell_type": "markdown",
      "metadata": {
        "id": "mFFbzf4EJR7h",
        "colab_type": "text"
      },
      "source": [
        "**Zadanie 7**"
      ]
    },
    {
      "cell_type": "code",
      "metadata": {
        "id": "aYYq4PhzJUxj",
        "colab_type": "code",
        "colab": {}
      },
      "source": [
        "def print_squares(count):\n",
        "    for i in range(1,1+count):\n",
        "        print(i*i, end=\", \")\n",
        "\n",
        "print('Podaj dodatnią liczbę pierwszych kwadratów liczb, które mam wypisać')\n",
        "liczba = int(input())\n",
        "if liczba > 0:\n",
        "    print_squares(liczba)\n",
        "else :\n",
        "    print('Podaano niepoprawna liczbe')\n"
      ],
      "execution_count": 0,
      "outputs": []
    },
    {
      "cell_type": "markdown",
      "metadata": {
        "id": "SkmFa7sJJYYe",
        "colab_type": "text"
      },
      "source": [
        "**Zadanie 8**"
      ]
    },
    {
      "cell_type": "code",
      "metadata": {
        "id": "IIRQS_4pJcDu",
        "colab_type": "code",
        "colab": {}
      },
      "source": [
        "# Z tablicy wybiera się element rozdzielający, po czym tablica jest dzielona \n",
        "# na dwa fragmenty: do początkowego przenoszone są wszystkie elementy nie \n",
        "# większe od rozdzielającego, do końcowego wszystkie większe. Potem sortuje \n",
        "# się osobno początkową i końcową część tablicy. Rekursja kończy się, gdy \n",
        "# kolejny fragment uzyskany z podziału zawiera pojedynczy element, jako że\n",
        "# jednoelementowa tablica nie wymaga sortowania.\n",
        "def partition(arr,low,high): \n",
        "    i = ( low-1 )         # indeks najmniejszego elementu\n",
        "    pivot = arr[high]     # element podziałowy\n",
        "  \n",
        "    for j in range(low , high): \n",
        "  \n",
        "        # jeżeli element jest mniejszy bądź równy elementowi podziałowemu\n",
        "        if   arr[j] <= pivot: \n",
        "          \n",
        "            # zwiększ indeks mniejszego elementu\n",
        "            i = i+1 \n",
        "            arr[i],arr[j] = arr[j],arr[i] \n",
        "  \n",
        "    arr[i+1],arr[high] = arr[high],arr[i+1] \n",
        "    return ( i+1 ) \n",
        "  \n",
        "# Główna funkcja implementująca QuickSort\n",
        "# arr[] --> tablica do sortowania,\n",
        "# low   --> indeks początkowy, \n",
        "# high  --> indeks końcowy\n",
        "def quickSort(arr,low,high): \n",
        "    if low < high: \n",
        "        # wyznaczenie pozycji elementu dzielącego\n",
        "        pi = partition(arr,low,high) \n",
        "  \n",
        "        # oddzielne sortowanie elementów przed i za elementem dzielącym\n",
        "        quickSort(arr, low, pi-1) \n",
        "        quickSort(arr, pi+1, high) \n",
        "\n",
        "# test powyższego kodu\n",
        "arr = [10, 7, 8, 9, 1, 5] \n",
        "n = len(arr) \n",
        "quickSort(arr,0,n-1) \n",
        "print (\"Przestortowana tablica:\") \n",
        "for i in range(n): \n",
        "    print (\"%d\" %arr[i]), \n"
      ],
      "execution_count": 0,
      "outputs": []
    },
    {
      "cell_type": "markdown",
      "metadata": {
        "id": "9YdwKUSJO6vt",
        "colab_type": "text"
      },
      "source": [
        "**Zadanie 9**"
      ]
    },
    {
      "cell_type": "code",
      "metadata": {
        "id": "dDO4wkMsO8tk",
        "colab_type": "code",
        "colab": {}
      },
      "source": [
        "def hanoi(n, A, B, C):\n",
        "    \"\"\"Wieże Hanoi w Pythonie.\"\"\"\n",
        "    if n == 1:\n",
        "        C.append(A.pop())\n",
        "        print(A, B, C)\n",
        "    else:\n",
        "        hanoi(n-1, A, C, B)   \n",
        "        C.append(A.pop())\n",
        "        print(A, B, C)\n",
        "        hanoi(n-1, B, A, C)\n",
        "\n",
        "number = 3   # rozwiązanie dla trzech krążków\n",
        "a = [\"a\"]\n",
        "b = [\"b\"]\n",
        "c = [\"c\"]\n",
        "for i in range(number):\n",
        "    a.append(number-i)\n",
        "print(a, b, c)\n",
        "hanoi(number, a, b, c)"
      ],
      "execution_count": 0,
      "outputs": []
    }
  ]
}