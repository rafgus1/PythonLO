{
  "nbformat": 4,
  "nbformat_minor": 0,
  "metadata": {
    "colab": {
      "name": "Copy of Podstawy_programowania_w_Pyton_III.ipynb",
      "provenance": [],
      "collapsed_sections": []
    },
    "kernelspec": {
      "name": "python3",
      "display_name": "Python 3"
    }
  },
  https://colab.research.google.com/github/rafgus1/PythonLO/blob/master/Podstawy_programowania_w_Pyton_III.ipynb
  "cells": [
    {
      "cell_type": "markdown",
      "metadata": {
        "id": "OvCYgrUU-t74",
        "colab_type": "text"
      },
      "source": [
        "# Bazowe operacje na listach tekstowych"
      ]
    },
    {
      "cell_type": "markdown",
      "metadata": {
        "id": "ZaGa-FOYiDQ5",
        "colab_type": "text"
      },
      "source": [
        "Poniże została zadeklarowana lista tekstowa bicycles zawierająca 4 elementy. W kolejnej linii została zadeklarowana zmienna message, która jest utworzona na podstawie tekstu \"Moim pierwszym rowerem był rower \" oraz elementu na pozycji o indeksie 0 znajdującego się w naszej liście. Dodatkowo element pobrany z listy będzie sformatowany jako tytuł czyli pierwszy znak będzie zapisany dużą literą a pozostałe znaki małymi literami. Polecenie print() wypisze komunikat w konsoli"
      ]
    },
    {
      "cell_type": "code",
      "metadata": {
        "id": "8uF7EOjJBExV",
        "colab_type": "code",
        "outputId": "1000d258-9476-42cf-8bf1-c0b6d8668986",
        "colab": {
          "base_uri": "https://localhost:8080/",
          "height": 34
        }
      },
      "source": [
        "bicycles = ['trekingowy', 'górski', 'miejski', 'szosowy']\n",
        "message = \"Moim pierwszym rowerem był rower \" + bicycles[0].title() + \".\"\n",
        "\n",
        "print(message)\n"
      ],
      "execution_count": 0,
      "outputs": [
        {
          "output_type": "stream",
          "text": [
            "Moim pierwszym rowerem był rower Trekingowy.\n"
          ],
          "name": "stdout"
        }
      ]
    },
    {
      "cell_type": "markdown",
      "metadata": {
        "id": "yrMnzAJGjKpi",
        "colab_type": "text"
      },
      "source": [
        "Python w bardzo prosty sposób sortuje listy. Poniżej znajduje się lista auta zawierająca nazwy samochodów. Aby posortować elementy listy korzystamy z polecenia sorted(lista, reverse=True/False), które zwraca posortowaną kopię naszej listy. W Pythonie istnieje również funkcja sort() wbudowana w listę, którą wywołujemy jakasLista.sort(). Funkcja sort() nie tworzy kopii naszej listy, tylko ją modyfikuje w wyniku czego tracimu oryginalny układ w liście. Zostanie to zilustrowane poniżej."
      ]
    },
    {
      "cell_type": "code",
      "metadata": {
        "id": "auyYBTAI-a9E",
        "colab_type": "code",
        "outputId": "13b0fc48-dc2c-4310-b013-62c609a7e8ee",
        "colab": {
          "base_uri": "https://localhost:8080/",
          "height": 255
        }
      },
      "source": [
        "auta = ['fiat', 'syrena', 'polonez', 'warszawa', 'mikrus', 'smyk']\n",
        "\n",
        "print(\"Oto lista początkowa:\")\n",
        "print(auta)\n",
        "\n",
        "print(\"\\nOto lista posortowana rosnąco:\")\n",
        "print(sorted(auta))\n",
        "\n",
        "print(\"\\nOto lista posortowana malejąco czyli w odwrotnej kolejności alfabetycznej:\")\n",
        "print(sorted(auta, reverse=True))\n",
        "\n",
        "print(\"\\nOto ponownie lista początkowa:\")\n",
        "print(auta)\n",
        "\n",
        "auta.sort();\n",
        "print(\"\\nOto lista posortowana:\")\n",
        "print(auta) # teraz nie można wrócić do listy pierwotnej\n"
      ],
      "execution_count": 0,
      "outputs": [
        {
          "output_type": "stream",
          "text": [
            "Oto lista początkowa:\n",
            "['fiat', 'syrena', 'polonez', 'warszawa', 'mikrus', 'smyk']\n",
            "\n",
            "Oto lista posortowana rosnąco:\n",
            "['fiat', 'mikrus', 'polonez', 'smyk', 'syrena', 'warszawa']\n",
            "\n",
            "Oto lista posortowana malejąco czyli w odwrotnej kolejności alfabetycznej:\n",
            "['warszawa', 'syrena', 'smyk', 'polonez', 'mikrus', 'fiat']\n",
            "\n",
            "Oto ponownie lista początkowa:\n",
            "['fiat', 'syrena', 'polonez', 'warszawa', 'mikrus', 'smyk']\n",
            "\n",
            "Oto lista posortowana:\n",
            "['fiat', 'mikrus', 'polonez', 'smyk', 'syrena', 'warszawa']\n"
          ],
          "name": "stdout"
        }
      ]
    },
    {
      "cell_type": "markdown",
      "metadata": {
        "id": "8bRyOKsjkxEz",
        "colab_type": "text"
      },
      "source": [
        "Z listy w Python możemy usunąć dowolny element wywołując wbudowaną w listę funkcję remove('wartość elementu który jest do usunięcia'). Poniżej przykład usunięcia elementu z listy."
      ]
    },
    {
      "cell_type": "code",
      "metadata": {
        "id": "x4iH7q4F_arz",
        "colab_type": "code",
        "outputId": "985972f3-08ae-4969-81e4-eb2965d4caba",
        "colab": {
          "base_uri": "https://localhost:8080/",
          "height": 85
        }
      },
      "source": [
        "motocykle = ['romet', 'wsk', 'gad', 'lech', 'sm', 'perkun', 'mz'] \n",
        "print(motocykle)\n",
        "\n",
        "niemiecki = 'mz'\n",
        "motocykle.remove(niemiecki)\n",
        "print(motocykle)\n",
        "print(\"\\nMotocykl \" + niemiecki.title() + \" nie jest polskiej produkcji.\")\n"
      ],
      "execution_count": 0,
      "outputs": [
        {
          "output_type": "stream",
          "text": [
            "['romet', 'wsk', 'gad', 'lech', 'sm', 'perkun', 'mz']\n",
            "['romet', 'wsk', 'gad', 'lech', 'sm', 'perkun']\n",
            "\n",
            "Motocykl Mz nie jest polskiej produkcji.\n"
          ],
          "name": "stdout"
        }
      ]
    },
    {
      "cell_type": "markdown",
      "metadata": {
        "id": "wc1eTNuHlmje",
        "colab_type": "text"
      },
      "source": [
        "W Python w bardzo prosty sposób możemy połączyć ze sobą 2 listy za pomocą znaku +. Jeśli mamy lista1 i lista2 to w wyniku wywołania polecenia lista1 + lista2 za elementami z lista1 zostaną zapisane elementy z lista2. Przykład poniżej "
      ]
    },
    {
      "cell_type": "code",
      "metadata": {
        "id": "05sPQNJZBOT6",
        "colab_type": "code",
        "outputId": "f37b01f2-30e1-4c4e-8c78-ac5fc261a6da",
        "colab": {
          "base_uri": "https://localhost:8080/",
          "height": 34
        }
      },
      "source": [
        "auta = ['fiat', 'syrena', 'polonez', 'warszawa', 'mikrus', 'smyk']\n",
        "motocykle = ['romet', 'wsk', 'gad', 'lech', 'sm', 'perkun', 'mz'] \n",
        "\n",
        "pojazdy = auta + motocykle\n",
        "print(pojazdy)"
      ],
      "execution_count": 0,
      "outputs": [
        {
          "output_type": "stream",
          "text": [
            "['fiat', 'syrena', 'polonez', 'warszawa', 'mikrus', 'smyk', 'romet', 'wsk', 'gad', 'lech', 'sm', 'perkun', 'mz']\n"
          ],
          "name": "stdout"
        }
      ]
    },
    {
      "cell_type": "markdown",
      "metadata": {
        "id": "FodD34LZmGZu",
        "colab_type": "text"
      },
      "source": [
        "Aby dodać element do listy wywołujemy wbudowaną w listę funkcję append(). nowy element dodaje się zawsze na końcu listy. "
      ]
    },
    {
      "cell_type": "code",
      "metadata": {
        "id": "n1qA9bOxB9dg",
        "colab_type": "code",
        "outputId": "f78015cf-e8cb-4be8-aa1a-9f03adb7f29d",
        "colab": {
          "base_uri": "https://localhost:8080/",
          "height": 34
        }
      },
      "source": [
        "pojazdy.append('ikarus')\n",
        "pojazdy.append('autosan')\n",
        "\n",
        "print(pojazdy)"
      ],
      "execution_count": 0,
      "outputs": [
        {
          "output_type": "stream",
          "text": [
            "['fiat', 'syrena', 'polonez', 'warszawa', 'mikrus', 'smyk', 'romet', 'wsk', 'gad', 'lech', 'sm', 'perkun', 'mz', 'ikarus', 'autosan']\n"
          ],
          "name": "stdout"
        }
      ]
    },
    {
      "cell_type": "markdown",
      "metadata": {
        "id": "3FHvO_fqmcfL",
        "colab_type": "text"
      },
      "source": [
        "Listy możemy powielać poprzez znak przypisania = . Możemy też wskazać jaki zakres listy chcemy skopiować. W tym celu po nazwie listy w nawiasach kwadratowych podajemy zakres do kopiowania , oddzielając pierwszy i ostatni element : . Przy założeniu że mamy listę o nazwie ksiazki=['lektura1','lektura2','lektura3','lektura4','lektura5'] to zapis\n",
        "\n",
        "noweksiazki = ksiazki lub noweksiazki = ksiazki[:] - skopiuje całą listę do nowej listy noweksiazki\n",
        "\n",
        "noweksiazki = ksiazki[:2] - skopiuje wszystkie elementy od początku do elementyu na pozycji 2-1 = 1 czyli : 'lektura1','lektura2'\n",
        "\n",
        "noweksiazki =ksiazki[1:3] - skopiuje wszystkie elementy od indeksu 1 do indeksu 3 - 1 = 2 czyli : 'lektura2','lektura3'\n",
        "\n",
        "noweksiazki = ksiazki[3:] - skopiuje wszystkie elementy od pozycji o indeksie =3 do końca listy czyli : 'lektura4','lektura5'\n",
        "Pamiętaj pozycje w listach indeksujemy od 0.\n"
      ]
    },
    {
      "cell_type": "code",
      "metadata": {
        "id": "nb3A02muDFFl",
        "colab_type": "code",
        "outputId": "b8a34c21-11d0-4c08-af09-eb2349f54090",
        "colab": {
          "base_uri": "https://localhost:8080/",
          "height": 102
        }
      },
      "source": [
        "my_foods = ['pizza', 'falafel', 'ciasto z marchwi'] \n",
        "friend_foods = my_foods[1:]\n",
        "\n",
        "my_foods.append('cannolo') \n",
        "friend_foods.append('lody') \n",
        "\n",
        "print(\"Moje ulubione potrawy to:\")\n",
        "print(my_foods)\n",
        "\n",
        "print(\"\\nUlubione potrawy mojego przyjaciela to:\")\n",
        "print(friend_foods)\n"
      ],
      "execution_count": 0,
      "outputs": [
        {
          "output_type": "stream",
          "text": [
            "Moje ulubione potrawy to:\n",
            "['pizza', 'falafel', 'ciasto z marchwi', 'cannolo']\n",
            "\n",
            "Ulubione potrawy mojego przyjaciela to:\n",
            "['falafel', 'ciasto z marchwi', 'lody']\n"
          ],
          "name": "stdout"
        }
      ]
    },
    {
      "cell_type": "markdown",
      "metadata": {
        "id": "q5bWL3VrpAvJ",
        "colab_type": "text"
      },
      "source": [
        "Aby przejżeć elementy w liście wystarczy skorzystać z prostej konstrukcji pętli\n",
        "\n",
        "    for element in lista:\n",
        "        polecenia do wykonania\n"
      ]
    },
    {
      "cell_type": "code",
      "metadata": {
        "id": "aCtVOP_FDPfy",
        "colab_type": "code",
        "outputId": "69fd8ff8-1d06-4019-d815-8508cba753ef",
        "colab": {
          "base_uri": "https://localhost:8080/",
          "height": 85
        }
      },
      "source": [
        "players = ['karol', 'martyna', 'michał', 'florian', 'ela'] \n",
        "\n",
        "print(\"Oto trzech pierwszych graczy naszej drużyny:\")\n",
        "for player in players[:3]:\n",
        "    print(player.title())"
      ],
      "execution_count": 0,
      "outputs": [
        {
          "output_type": "stream",
          "text": [
            "Oto trzech pierwszych graczy naszej drużyny:\n",
            "Karol\n",
            "Martyna\n",
            "Michał\n"
          ],
          "name": "stdout"
        }
      ]
    },
    {
      "cell_type": "markdown",
      "metadata": {
        "id": "IPxgug3MqGMh",
        "colab_type": "text"
      },
      "source": [
        "# Przykłady zastosowania powyższych informacji\n",
        "\n",
        "Przeanalizuj poniższe kody zapisane w języku Python"
      ]
    },
    {
      "cell_type": "code",
      "metadata": {
        "id": "mHby6-7aDWlL",
        "colab_type": "code",
        "outputId": "49c2a66a-6f97-4719-8f78-c25878ce784f",
        "colab": {
          "base_uri": "https://localhost:8080/",
          "height": 187
        }
      },
      "source": [
        "magicians = ['alicja', 'dawid', 'karolina'] \n",
        "for magician in magicians: \n",
        "    print(magician.title() + \", to była doskonała sztuczka!\")  \n",
        "    print(\"Nie mogę się doczekać Twojej kolejnej sztuczki, \" + magician.title() + \".\\n\") \n",
        "    \n",
        "print(\"Dziękuję wszystkim. To był naprawdę wspaniały występ!\")\n"
      ],
      "execution_count": 0,
      "outputs": [
        {
          "output_type": "stream",
          "text": [
            "Alicja, to była doskonała sztuczka!\n",
            "Nie mogę się doczekać Twojej kolejnej sztuczki, Alicja.\n",
            "\n",
            "Dawid, to była doskonała sztuczka!\n",
            "Nie mogę się doczekać Twojej kolejnej sztuczki, Dawid.\n",
            "\n",
            "Karolina, to była doskonała sztuczka!\n",
            "Nie mogę się doczekać Twojej kolejnej sztuczki, Karolina.\n",
            "\n",
            "Dziękuję wszystkim. To był naprawdę wspaniały występ!\n"
          ],
          "name": "stdout"
        }
      ]
    },
    {
      "cell_type": "code",
      "metadata": {
        "id": "0lEzt8n6RQQu",
        "colab_type": "code",
        "outputId": "62d8a503-8062-45d7-950c-779526863725",
        "colab": {
          "base_uri": "https://localhost:8080/",
          "height": 193
        }
      },
      "source": [
        "auta = ['fiat', 'syrena', 'polonez', 'warszawa', 'mikrus', 'smyk']\n",
        "motocykle = ['romet', 'wsk', 'gad', 'lech', 'sm', 'perkun', 'mz'] \n",
        "\n",
        "pojazdy = auta + motocykle\n",
        "\n",
        "mojePojazdy = auta[4:5] + motocykle[2:]\n",
        "\n",
        "del pojazdy[3:4]\n",
        "\n",
        "print('Wszystkie pojazdy', sorted(pojazdy), 'w sumie jest ich', len(pojazd))\n",
        "print('Wszystkie pojazdy', mojePojazdy, 'w sumie jest ich', len(mojePojazdy))\n",
        "\n",
        "print(\"\\nPojazd\", \"\\t:\\t\", \"długość napisu\")\n",
        "for pojazd in sorted(mojePojazdy):\n",
        "    print(pojazd.title(), \"\\t:\\t\", len(pojazd), \"\")"
      ],
      "execution_count": 0,
      "outputs": [
        {
          "output_type": "stream",
          "text": [
            "Wszystkie pojazdy ['fiat', 'gad', 'lech', 'mikrus', 'mz', 'perkun', 'polonez', 'romet', 'sm', 'smyk', 'syrena', 'wsk'] w sumie jest ich 2\n",
            "Wszystkie pojazdy ['mikrus', 'gad', 'lech', 'sm', 'perkun', 'mz'] w sumie jest ich 6\n",
            "\n",
            "Pojazd \t:\t długość napisu\n",
            "Gad \t:\t 3 \n",
            "Lech \t:\t 4 \n",
            "Mikrus \t:\t 6 \n",
            "Mz \t:\t 2 \n",
            "Perkun \t:\t 6 \n",
            "Sm \t:\t 2 \n"
          ],
          "name": "stdout"
        }
      ]
    },
    {
      "cell_type": "markdown",
      "metadata": {
        "id": "_EOIHZ-JDmam",
        "colab_type": "text"
      },
      "source": [
        "# Operacje na listach numerycznych\n",
        "\n",
        "Listy numertyczne zawierają wartości liczbowe na których możemy wykonywać działania matematyczne."
      ]
    },
    {
      "cell_type": "code",
      "metadata": {
        "id": "cuF5CyhiDsZm",
        "colab_type": "code",
        "outputId": "3b7fc23a-ac55-4764-a9fd-b907f114f30f",
        "colab": {
          "base_uri": "https://localhost:8080/",
          "height": 34
        }
      },
      "source": [
        "numbers = list(range(1,6)) \n",
        "print(numbers) \n"
      ],
      "execution_count": 0,
      "outputs": [
        {
          "output_type": "stream",
          "text": [
            "[1, 2, 3, 4, 5]\n"
          ],
          "name": "stdout"
        }
      ]
    },
    {
      "cell_type": "code",
      "metadata": {
        "id": "ExzXZoBcDu_-",
        "colab_type": "code",
        "outputId": "883ec84e-bf13-4c1c-fedf-128ee0fd9baf",
        "colab": {
          "base_uri": "https://localhost:8080/",
          "height": 34
        }
      },
      "source": [
        "even_numbers = list(range(2,11,2)) \n",
        "print(even_numbers)\n"
      ],
      "execution_count": 0,
      "outputs": [
        {
          "output_type": "stream",
          "text": [
            "[2, 4, 6, 8, 10]\n"
          ],
          "name": "stdout"
        }
      ]
    },
    {
      "cell_type": "code",
      "metadata": {
        "id": "QPmrdIOoDy2H",
        "colab_type": "code",
        "outputId": "1cb89fab-7827-485e-b6b8-5434fbac5a18",
        "colab": {
          "base_uri": "https://localhost:8080/",
          "height": 34
        }
      },
      "source": [
        "squares = []\n",
        "for value in range(1,11):\n",
        "    square = value**2 #podniesienie do danej potęgi\n",
        "    squares.append(square)\n",
        "    \n",
        "print(squares)\n"
      ],
      "execution_count": 0,
      "outputs": [
        {
          "output_type": "stream",
          "text": [
            "[1, 4, 9, 16, 25, 36, 49, 64, 81, 100]\n"
          ],
          "name": "stdout"
        }
      ]
    },
    {
      "cell_type": "markdown",
      "metadata": {
        "id": "qbpxzYGirVzN",
        "colab_type": "text"
      },
      "source": [
        "Wykonywanie prostych obliczeń na całych listach można zrealizować za pomocą znaków matematycznych. \n",
        "\n",
        "Można też użyć bardzo ciekawej konstrukcji:\n",
        "\n",
        "    [działanie na elemencie for element in lista]\n",
        "\n",
        "Można też użyć funkcji lambda:\n",
        "\n",
        "    list(map(lambda element: element+2, lista))\n",
        "\n",
        "Powyższe polecenie utworzy listę w której do każdego elementu z lista zostanie dodana wartość 2."
      ]
    },
    {
      "cell_type": "code",
      "metadata": {
        "id": "EZLiCPrRRHIi",
        "colab_type": "code",
        "outputId": "667eec87-82c5-4947-9fe5-4de3fa137a1b",
        "colab": {
          "base_uri": "https://localhost:8080/",
          "height": 68
        }
      },
      "source": [
        "cubes = []\n",
        "numbers = list(range(1,11))\n",
        "\n",
        "for value in numbers:\n",
        "    cube = value**3\n",
        "    cubes.append(cube)\n",
        "    \n",
        "print(cubes)\n",
        "\n",
        "cubes = [x**3 for x in numbers]\n",
        "print(cubes)\n",
        "\n",
        "cubes = list(map(lambda x: x**3, numbers))\n",
        "print(cubes)"
      ],
      "execution_count": 0,
      "outputs": [
        {
          "output_type": "stream",
          "text": [
            "[1, 8, 27, 64, 125, 216, 343, 512, 729, 1000]\n",
            "[1, 8, 27, 64, 125, 216, 343, 512, 729, 1000]\n",
            "[1, 8, 27, 64, 125, 216, 343, 512, 729, 1000]\n"
          ],
          "name": "stdout"
        }
      ]
    },
    {
      "cell_type": "markdown",
      "metadata": {
        "id": "dpXbu3-MthoX",
        "colab_type": "text"
      },
      "source": [
        "Przykłady zastosowania powyższych informacji."
      ]
    },
    {
      "cell_type": "code",
      "metadata": {
        "id": "u7Sq1MTaD5vM",
        "colab_type": "code",
        "outputId": "5482cb6e-7c13-4429-b3f0-da2479d1edcf",
        "colab": {
          "base_uri": "https://localhost:8080/",
          "height": 340
        }
      },
      "source": [
        "wymiary = [200, 50]\n",
        "print(\"Wymiary początkowe w cm:\")\n",
        "for wymiar in wymiary:\n",
        "    print(wymiar)\n",
        "    \n",
        "wymiary = [400, 100]\n",
        "print(\"\\nWymiary po modyfikacji w cm:\")\n",
        "for wymiar in wymiary:\n",
        "    print(wymiar)\n",
        "\n",
        "print(\"\\nWymiary w m:\")\n",
        "for wymiar in wymiary:\n",
        "    print(wymiar / 100)\n",
        "\n",
        "wymiaryWMetrach = [x / 100 for x in wymiary]\n",
        "print(\"\\nWymiary w m:\")\n",
        "for wymiar in wymiaryWMetrach:\n",
        "    print(wymiar)\n",
        "\n",
        "wymiaryWMetrach = map(lambda x: x/100, wymiary)\n",
        "print(\"\\nWymiary w m:\")\n",
        "for wymiar in wymiaryWMetrach:\n",
        "    print(wymiar)\n",
        "\n"
      ],
      "execution_count": 0,
      "outputs": [
        {
          "output_type": "stream",
          "text": [
            "Wymiary początkowe w cm:\n",
            "200\n",
            "50\n",
            "\n",
            "Wymiary po modyfikacji w cm:\n",
            "400\n",
            "100\n",
            "\n",
            "Wymiary w m:\n",
            "4.0\n",
            "1.0\n",
            "\n",
            "Wymiary w m:\n",
            "4.0\n",
            "1.0\n",
            "\n",
            "Wymiary w m:\n",
            "4.0\n",
            "1.0\n"
          ],
          "name": "stdout"
        }
      ]
    },
    {
      "cell_type": "markdown",
      "metadata": {
        "id": "TdcUxb60tqCk",
        "colab_type": "text"
      },
      "source": [
        "#Biblioteka numpy\n",
        "\n",
        "Jest to biblioteka operująca na zbiorach danych, jeśli nie macie jej zainstalowanej u siebie wystarczy w wierszu poleceń wpisać\n",
        "\n",
        "    pip3 install numpy\n",
        "\n",
        "poniżej przykład pomnożenia przez siebie kolejnych elementów ze zbioru1 przez kolejne elementy ze zbioru2"
      ]
    },
    {
      "cell_type": "code",
      "metadata": {
        "id": "BHj9fo8LEiFG",
        "colab_type": "code",
        "outputId": "93bacf6e-ac66-41ab-d99b-e8f72e90deef",
        "colab": {
          "base_uri": "https://localhost:8080/",
          "height": 34
        }
      },
      "source": [
        "import numpy\n",
        "\n",
        "zbior1 = numpy.array(range(1,11))\n",
        "zbior2 = zbior1\n",
        "\n",
        "print(zbior1*zbior2)"
      ],
      "execution_count": 0,
      "outputs": [
        {
          "output_type": "stream",
          "text": [
            "[  1   4   9  16  25  36  49  64  81 100]\n"
          ],
          "name": "stdout"
        }
      ]
    }
  ]
}
